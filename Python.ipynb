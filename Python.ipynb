{
  "nbformat": 4,
  "nbformat_minor": 0,
  "metadata": {
    "colab": {
      "provenance": []
    },
    "kernelspec": {
      "name": "python3",
      "display_name": "Python 3"
    },
    "language_info": {
      "name": "python"
    }
  },
  "cells": [
    {
      "cell_type": "markdown",
      "source": [
        "#**PYTHON**"
      ],
      "metadata": {
        "id": "I35hZWmMQmcQ"
      }
    },
    {
      "cell_type": "markdown",
      "source": [
        "#1.Explain the key features of Python that make it a popular choice for programming\n",
        "\n",
        "Ans.1. Simple and Readable Syntax\n",
        "*Python’s syntax is clean and close to English, which makes it easier to learn\n",
        " and understand.\n",
        "\n",
        "*This readability reduces development time and the likelihood of bugs.\n",
        "\n",
        "2. Interpreted and Dynamically Typed\n",
        "\n",
        "*Python is an interpreted language, meaning code runs line by line. This makes\n",
        " debugging easier.\n",
        "\n",
        "*It’s dynamically typed, so you don’t need to declare variable types—Python\n",
        " figures it out at runtime.\n",
        "\n",
        " 3. Vast Standard Library & Ecosystem\n",
        "*Python comes with a massive standard library for file I/O, system calls, web\n",
        " services, and more.\n",
        "\n",
        "*It also has a rich ecosystem of third-party packages (via pip) for everything\n",
        " from web development (Flask, Django) to data science (NumPy, pandas, scikit-learn).\n",
        "\n",
        " 4. Cross-Platform Compatibility\n",
        "*Python is platform-independent—you can write code once and run it on Windows,\n",
        " macOS, or Linux with minimal changes.\n",
        "\n",
        " 5. Supports Multiple Programming Paradigms\n",
        "Python supports:\n",
        "\n",
        "*Procedural programming\n",
        "\n",
        "*Object-oriented programming\n",
        "\n",
        "*Functional programming\n",
        "\n",
        "*This makes it flexible and suitable for a wide range of projects.\n",
        "\n",
        "\n"
      ],
      "metadata": {
        "id": "h08IYgUYRA8Q"
      }
    },
    {
      "cell_type": "markdown",
      "source": [
        "#2. Describe the role of predefined keywords in Python and provide examples of how they are used in a program\n",
        "\n",
        "Ans.Predefined keywords (also called reserved words) are special words that are built into the Python language. These words have a specific meaning and function, and cannot be used as identifiers (like variable or function names) because Python uses them to understand the structure and behavior of your code.\n",
        "\n"
      ],
      "metadata": {
        "id": "WmZM3uxUTzBI"
      }
    },
    {
      "cell_type": "code",
      "execution_count": 1,
      "metadata": {
        "colab": {
          "base_uri": "https://localhost:8080/"
        },
        "id": "HwjQFPynQljT",
        "outputId": "df4ade5c-2001-4c6d-beac-446137c3d9de"
      },
      "outputs": [
        {
          "output_type": "stream",
          "name": "stdout",
          "text": [
            "Positive\n"
          ]
        }
      ],
      "source": [
        "x = 10\n",
        "if x > 0:\n",
        "    print(\"Positive\")\n",
        "elif x == 0:\n",
        "    print(\"Zero\")\n",
        "else:\n",
        "    print(\"Negative\")\n"
      ]
    },
    {
      "cell_type": "code",
      "source": [
        "#example 2\n",
        "\n",
        "i = 0\n",
        "while i < 5:\n",
        "    if i == 3:\n",
        "        break\n",
        "    print(i)\n",
        "    i += 1\n"
      ],
      "metadata": {
        "colab": {
          "base_uri": "https://localhost:8080/"
        },
        "id": "r-US1DgWUYKx",
        "outputId": "0b595411-facb-48eb-8cb5-bf745a6f4621"
      },
      "execution_count": 2,
      "outputs": [
        {
          "output_type": "stream",
          "name": "stdout",
          "text": [
            "0\n",
            "1\n",
            "2\n"
          ]
        }
      ]
    },
    {
      "cell_type": "markdown",
      "source": [
        "#3.  Compare and contrast mutable and immutable objects in Python with examples\n",
        "\n",
        "Ans.**Mutable Objects**\n",
        "\n",
        "*Can be changed after creation.\n",
        "\n",
        "*Same memory address is retained when modified.\n",
        "\n",
        "*Used when data needs to be updated frequently.\n",
        "\n",
        "#Examples: list, dict, set, bytearray\n",
        "\n",
        "Not safe for use as dictionary keys or set elements.\n"
      ],
      "metadata": {
        "id": "daGCIuIUUiJ2"
      }
    },
    {
      "cell_type": "code",
      "source": [
        "my_list = [1, 2, 3]\n",
        "my_list.append(4)  # Modifies the list\n"
      ],
      "metadata": {
        "id": "rNPg5jhEVGnn"
      },
      "execution_count": 3,
      "outputs": []
    },
    {
      "cell_type": "markdown",
      "source": [
        "**Immutable Objects**\n",
        "\n",
        "*Cannot be changed after creation.\n",
        "\n",
        "*New memory address is created if a change is attempted.\n",
        "\n",
        "*Used when data should remain constant.\n",
        "\n",
        "#Examples: int, float, str, tuple, bool, frozenset\n",
        "\n",
        "Can be used as dictionary keys or elements in sets."
      ],
      "metadata": {
        "id": "rEMf9dv1VLML"
      }
    },
    {
      "cell_type": "code",
      "source": [
        "my_str = \"Hello\"\n",
        "my_str += \" World\"  # Creates a new string\n"
      ],
      "metadata": {
        "id": "Ld_GIwDhVJyT"
      },
      "execution_count": 4,
      "outputs": []
    },
    {
      "cell_type": "markdown",
      "source": [
        "#4. Discuss the different types of operators in Python and provide examples of how they are used\n",
        "\n",
        "Ans. 1. Arithmetic Operators\n",
        "Perform basic math operations.\n",
        "\n",
        "#Examples:\n",
        "\n",
        "+ → 5 + 2 = 7\n",
        "\n",
        "- → 5 - 2 = 3\n",
        "\n",
        "* → 5 * 2 = 10\n",
        "\n",
        "/ → 5 / 2 = 2.5\n",
        "\n",
        "// → 5 // 2 = 2 (Floor division)\n",
        "\n",
        "% → 5 % 2 = 1 (Remainder)\n",
        "\n",
        "** → 2 ** 3 = 8 (Exponent)"
      ],
      "metadata": {
        "id": "LqqgFr1pVwtn"
      }
    },
    {
      "cell_type": "code",
      "source": [
        "a = 10\n",
        "b = 3\n",
        "\n",
        "print(a + b)   # 13\n",
        "print(a - b)   # 7\n",
        "print(a * b)   # 30\n",
        "print(a / b)   # 3.333...\n",
        "print(a // b)  # 3 (Floor division)\n",
        "print(a % b)   # 1 (Remainder)\n",
        "print(a ** b)  # 1000 (10^3)\n"
      ],
      "metadata": {
        "colab": {
          "base_uri": "https://localhost:8080/"
        },
        "id": "mzS53SJ2X2yw",
        "outputId": "360f1fd2-2e52-4c2f-d3b9-ad8473382e69"
      },
      "execution_count": 5,
      "outputs": [
        {
          "output_type": "stream",
          "name": "stdout",
          "text": [
            "13\n",
            "7\n",
            "30\n",
            "3.3333333333333335\n",
            "3\n",
            "1\n",
            "1000\n"
          ]
        }
      ]
    },
    {
      "cell_type": "markdown",
      "source": [
        "#2. Comparison (Relational) Operators\n",
        "Used to compare two values.\n",
        "\n",
        "Operator\tMeaning\tExample\tResult\n",
        "==\tEqual to\t5 == 5\tTrue\n",
        "!=\tNot equal to\t5 != 3\tTrue\n",
        ">\tGreater than\t5 > 3\tTrue\n",
        "<\tLess than\t3 < 5\tTrue\n",
        ">=\tGreater or equal\t5 >= 5\tTrue\n",
        "<=\tLess or equal\t3 <= 5\tTrue\n"
      ],
      "metadata": {
        "id": "NPGeGKVSX8rf"
      }
    },
    {
      "cell_type": "code",
      "source": [
        "x = 5\n",
        "y = 10\n",
        "\n",
        "print(x == y)   # False\n",
        "print(x != y)   # True\n",
        "print(x > y)    # False\n",
        "print(x < y)    # True\n",
        "print(x >= 5)   # True\n",
        "print(y <= 10)  # True\n"
      ],
      "metadata": {
        "colab": {
          "base_uri": "https://localhost:8080/"
        },
        "id": "8HX1tr2TX6OD",
        "outputId": "ab41b7ef-9bfb-4db9-a228-95db23be7ee4"
      },
      "execution_count": 6,
      "outputs": [
        {
          "output_type": "stream",
          "name": "stdout",
          "text": [
            "False\n",
            "True\n",
            "False\n",
            "True\n",
            "True\n",
            "True\n"
          ]
        }
      ]
    },
    {
      "cell_type": "markdown",
      "source": [
        "#3. Logical Operators\n",
        "Combine multiple conditions.\n",
        "\n",
        "Examples:\n",
        "\n",
        "and → True and False → False\n",
        "\n",
        "or → True or False → True\n",
        "\n",
        "not → not True → False\n",
        "\n"
      ],
      "metadata": {
        "id": "Om0aILhxYQF_"
      }
    },
    {
      "cell_type": "code",
      "source": [
        "a = True\n",
        "b = False\n",
        "\n",
        "print(a and b)  # False\n",
        "print(a or b)   # True\n",
        "print(not a)    # False\n"
      ],
      "metadata": {
        "colab": {
          "base_uri": "https://localhost:8080/"
        },
        "id": "gsUb5wiUYJSz",
        "outputId": "58244424-a15e-46b9-a321-3480894fb5db"
      },
      "execution_count": 7,
      "outputs": [
        {
          "output_type": "stream",
          "name": "stdout",
          "text": [
            "False\n",
            "True\n",
            "False\n"
          ]
        }
      ]
    },
    {
      "cell_type": "markdown",
      "source": [
        "# 4. Assignment Operators\n",
        "Assign and update variable values.\n",
        "\n",
        "Examples:\n",
        "\n",
        "= → x = 5\n",
        "\n",
        "+= → x += 2 (same as x = x + 2)\n",
        "\n",
        "-= → x -= 2\n",
        "\n",
        "*= → x *= 3\n",
        "\n",
        "/= → x /= 2\n",
        "\n"
      ],
      "metadata": {
        "id": "TD5-8rn9YXzU"
      }
    },
    {
      "cell_type": "code",
      "source": [
        "x = 5\n",
        "x += 2   # x = x + 2 → 7\n",
        "x -= 1   # x = x - 1 → 6\n",
        "x *= 3   # x = x * 3 → 18\n",
        "x /= 6   # x = x / 6 → 3.0\n",
        "\n",
        "print(x)\n"
      ],
      "metadata": {
        "colab": {
          "base_uri": "https://localhost:8080/"
        },
        "id": "ZzPvqqpvYW9S",
        "outputId": "b88e6e93-df1d-4919-e46a-b3eb765b532a"
      },
      "execution_count": 8,
      "outputs": [
        {
          "output_type": "stream",
          "name": "stdout",
          "text": [
            "3.0\n"
          ]
        }
      ]
    },
    {
      "cell_type": "markdown",
      "source": [
        "#5. Bitwise Operators\n",
        "Perform operations on binary (bit-level) values.\n",
        "\n",
        "Examples:\n",
        "\n",
        "& → 5 & 3 → 1\n",
        "\n",
        "| → 5 | 3 → 7\n",
        "\n",
        "^ → 5 ^ 3 → 6\n",
        "\n",
        "~ → ~5 → -6\n",
        "\n",
        "<< → 5 << 1 → 10\n",
        "\n",
        ">> → 5 >> 1 → 2\n",
        "\n"
      ],
      "metadata": {
        "id": "rP5_gBfcYuQI"
      }
    },
    {
      "cell_type": "code",
      "source": [
        "a = 5    # 0b0101\n",
        "b = 3    # 0b0011\n",
        "\n",
        "print(a & b)   # 1 (0b0001)\n",
        "print(a | b)   # 7 (0b0111)\n",
        "print(a ^ b)   # 6 (0b0110)\n",
        "print(~a)      # -6 (inverts bits)\n",
        "print(a << 1)  # 10 (left shift)\n",
        "print(a >> 1)  # 2 (right shift)\n"
      ],
      "metadata": {
        "colab": {
          "base_uri": "https://localhost:8080/"
        },
        "id": "4N1AUCrNYsTO",
        "outputId": "70696de6-c319-40ab-aab9-07db3a82c619"
      },
      "execution_count": 9,
      "outputs": [
        {
          "output_type": "stream",
          "name": "stdout",
          "text": [
            "1\n",
            "7\n",
            "6\n",
            "-6\n",
            "10\n",
            "2\n"
          ]
        }
      ]
    },
    {
      "cell_type": "markdown",
      "source": [
        "#6. Identity Operators\n",
        "Compare object identity (memory location).\n",
        "\n",
        "Examples:\n",
        "\n",
        "is → a is b → True if both refer to same object\n",
        "\n",
        "is not → a is not b → True if they are different objects\n",
        "\n"
      ],
      "metadata": {
        "id": "KCvsBYSdZBsw"
      }
    },
    {
      "cell_type": "code",
      "source": [
        "x = [1, 2, 3]\n",
        "y = x\n",
        "z = [1, 2, 3]\n",
        "\n",
        "print(x is y)       # True (same object)\n",
        "print(x is z)       # False (same content, different objects)\n",
        "print(x is not z)   # True\n"
      ],
      "metadata": {
        "colab": {
          "base_uri": "https://localhost:8080/"
        },
        "id": "EiC5xvLJY_3Z",
        "outputId": "5a2a091f-95ef-408a-f079-8a9149fa88fa"
      },
      "execution_count": 10,
      "outputs": [
        {
          "output_type": "stream",
          "name": "stdout",
          "text": [
            "True\n",
            "False\n",
            "True\n"
          ]
        }
      ]
    },
    {
      "cell_type": "markdown",
      "source": [
        " 7. Membership Operators\n",
        "Check if a value is present in a sequence (like string, list, etc.).\n",
        "\n",
        "Examples:\n",
        "\n",
        "in → 'a' in 'cat' → True\n",
        "\n",
        "not in → 'x' not in 'cat' → True\n",
        "\n"
      ],
      "metadata": {
        "id": "hVnBAoG_ZNPb"
      }
    },
    {
      "cell_type": "code",
      "source": [
        "fruits = [\"apple\", \"banana\", \"cherry\"]\n",
        "\n",
        "print(\"banana\" in fruits)      # True\n",
        "print(\"grape\" not in fruits)   # True\n"
      ],
      "metadata": {
        "colab": {
          "base_uri": "https://localhost:8080/"
        },
        "id": "gVtht_baZMZe",
        "outputId": "701d9517-991a-49c0-c311-df7453a0850b"
      },
      "execution_count": 11,
      "outputs": [
        {
          "output_type": "stream",
          "name": "stdout",
          "text": [
            "True\n",
            "True\n"
          ]
        }
      ]
    },
    {
      "cell_type": "markdown",
      "source": [
        "#5 Explain the concept of type casting in Python with examples\n",
        "\n",
        "Ans. Type casting means converting one data type into another. It’s useful when you want to do operations that require specific types (like adding a string and a number after converting one).\n",
        "\n",
        "There are two types of type casting in Python:\n",
        "\n",
        "1. **Implicit Type Casting (Automatic)**\n",
        "\n",
        "Done automatically by Python.\n",
        "\n",
        "Happens when mixing different types in expressions."
      ],
      "metadata": {
        "id": "qbgQQXvhZxLG"
      }
    },
    {
      "cell_type": "code",
      "source": [
        "a = 5       # int\n",
        "b = 2.5     # float\n",
        "\n",
        "c = a + b   # int + float → float\n",
        "print(c)    # 7.5\n",
        "print(type(c))  # <class 'float'>\n"
      ],
      "metadata": {
        "colab": {
          "base_uri": "https://localhost:8080/"
        },
        "id": "vrU6hBOgaHjn",
        "outputId": "7329dac7-556d-484e-c274-1346c727b36d"
      },
      "execution_count": 12,
      "outputs": [
        {
          "output_type": "stream",
          "name": "stdout",
          "text": [
            "7.5\n",
            "<class 'float'>\n"
          ]
        }
      ]
    },
    {
      "cell_type": "markdown",
      "source": [
        "2. **Explicit Type Casting (Manual)**\n",
        "\n",
        "Done by the programmer using built-in functions like int(), float(), str(), etc.\n",
        "\n",
        "Common functions:\n",
        "\n",
        "int() → converts to integer\n",
        "\n",
        "float() → converts to float\n",
        "\n",
        "str() → converts to string\n",
        "\n",
        "bool() → converts to boolean\n",
        "\n"
      ],
      "metadata": {
        "id": "N73GMtmBaskz"
      }
    },
    {
      "cell_type": "code",
      "source": [
        "x = \"100\"\n",
        "y = int(x)  # convert string to int\n",
        "print(y + 50)  # Output: 150\n"
      ],
      "metadata": {
        "colab": {
          "base_uri": "https://localhost:8080/"
        },
        "id": "xX3eoFFsajSD",
        "outputId": "778c3d5d-d4b2-486a-83f8-b3d3701f389c"
      },
      "execution_count": 13,
      "outputs": [
        {
          "output_type": "stream",
          "name": "stdout",
          "text": [
            "150\n"
          ]
        }
      ]
    },
    {
      "cell_type": "code",
      "source": [
        "num = 9.7\n",
        "new_num = int(num)  # removes decimal part\n",
        "print(new_num)  # Output: 9\n"
      ],
      "metadata": {
        "colab": {
          "base_uri": "https://localhost:8080/"
        },
        "id": "lshcFqJObCHA",
        "outputId": "859e1458-ec02-48dd-db5c-0df19cf54dee"
      },
      "execution_count": 14,
      "outputs": [
        {
          "output_type": "stream",
          "name": "stdout",
          "text": [
            "9\n"
          ]
        }
      ]
    },
    {
      "cell_type": "code",
      "source": [
        "age = 25\n",
        "print(\"I am \" + str(age) + \" years old.\")  # Output: I am 25 years old.\n"
      ],
      "metadata": {
        "colab": {
          "base_uri": "https://localhost:8080/"
        },
        "id": "AMLrzFrBbD3o",
        "outputId": "8ad54a61-e786-4c30-d969-f64cfa1b2740"
      },
      "execution_count": 15,
      "outputs": [
        {
          "output_type": "stream",
          "name": "stdout",
          "text": [
            "I am 25 years old.\n"
          ]
        }
      ]
    },
    {
      "cell_type": "code",
      "source": [
        "print(bool(0))   # False\n",
        "print(bool(5))   # True\n"
      ],
      "metadata": {
        "colab": {
          "base_uri": "https://localhost:8080/"
        },
        "id": "M5ZKlojQbFy9",
        "outputId": "f84aad2d-53b7-4023-f011-b11ece7ce962"
      },
      "execution_count": 16,
      "outputs": [
        {
          "output_type": "stream",
          "name": "stdout",
          "text": [
            "False\n",
            "True\n"
          ]
        }
      ]
    },
    {
      "cell_type": "markdown",
      "source": [
        "#6. How do conditional statements work in Python? Illustrate with examples\n",
        "\n",
        "Ans. Conditional statements allow your program to make decisions based on conditions (True or False).\n",
        "\n",
        "**Types of Conditional Statements in Python**\n",
        "\n",
        "if statement – Executes a block only if the condition is True.\n",
        "\n",
        "if...else statement – Adds an alternative block if the condition is False.\n",
        "\n",
        "if...elif...else chain – Checks multiple conditions in sequence."
      ],
      "metadata": {
        "id": "ecvwMH2EbSLs"
      }
    },
    {
      "cell_type": "code",
      "source": [
        "x = 10\n",
        "if x > 5:\n",
        "    print(\"x is greater than 5\")\n",
        "# Output: x is greater than 5\n"
      ],
      "metadata": {
        "colab": {
          "base_uri": "https://localhost:8080/"
        },
        "id": "83o3njtobKyX",
        "outputId": "dce91c28-9398-4b40-ac91-bc87e86a16ff"
      },
      "execution_count": 17,
      "outputs": [
        {
          "output_type": "stream",
          "name": "stdout",
          "text": [
            "x is greater than 5\n"
          ]
        }
      ]
    },
    {
      "cell_type": "code",
      "source": [
        "x = 3\n",
        "if x > 5:\n",
        "    print(\"x is greater than 5\")\n",
        "else:\n",
        "    print(\"x is 5 or less\")\n",
        "# Output: x is 5 or less\n"
      ],
      "metadata": {
        "colab": {
          "base_uri": "https://localhost:8080/"
        },
        "id": "jxFCgri4bzHg",
        "outputId": "25af4afa-6272-4ae0-aebe-5b65f870f663"
      },
      "execution_count": 18,
      "outputs": [
        {
          "output_type": "stream",
          "name": "stdout",
          "text": [
            "x is 5 or less\n"
          ]
        }
      ]
    },
    {
      "cell_type": "code",
      "source": [
        "x = 0\n",
        "if x > 0:\n",
        "    print(\"Positive number\")\n",
        "elif x == 0:\n",
        "    print(\"Zero\")\n",
        "else:\n",
        "    print(\"Negative number\")\n",
        "# Output: Zero\n"
      ],
      "metadata": {
        "colab": {
          "base_uri": "https://localhost:8080/"
        },
        "id": "v4-OVADjb2LT",
        "outputId": "7df6b590-33e5-49f2-d53c-eea9a5334ee8"
      },
      "execution_count": 19,
      "outputs": [
        {
          "output_type": "stream",
          "name": "stdout",
          "text": [
            "Zero\n"
          ]
        }
      ]
    },
    {
      "cell_type": "markdown",
      "source": [
        "#7.Describe the different types of loops in Python and their use cases with examples.\n",
        "\n",
        "Ans. Loops are used to execute a block of code repeatedly until a certain condition is met.\n",
        "\n",
        "**1. for Loop**\n",
        "\n",
        "Use Case:\n",
        "Used when you want to iterate over a sequence (like a list, string, range, etc.)\n",
        "\n"
      ],
      "metadata": {
        "id": "2qY87r0UcBrZ"
      }
    },
    {
      "cell_type": "code",
      "source": [
        "fruits = [\"apple\", \"banana\", \"cherry\"]\n",
        "for fruit in fruits:\n",
        "    print(fruit)\n"
      ],
      "metadata": {
        "colab": {
          "base_uri": "https://localhost:8080/"
        },
        "id": "xoZaj4Mab49k",
        "outputId": "71e26c80-0f3e-444d-fb37-8838ccdab904"
      },
      "execution_count": 20,
      "outputs": [
        {
          "output_type": "stream",
          "name": "stdout",
          "text": [
            "apple\n",
            "banana\n",
            "cherry\n"
          ]
        }
      ]
    },
    {
      "cell_type": "markdown",
      "source": [
        "\n",
        "**2. while Loop**\n",
        "\n",
        " Use Case:\n",
        "\n",
        "Used when you want to repeat a block of code while a condition is True."
      ],
      "metadata": {
        "id": "7rzVKCricjbv"
      }
    },
    {
      "cell_type": "code",
      "source": [
        "i = 1\n",
        "while i <= 5:\n",
        "    print(i)\n",
        "    i += 1\n"
      ],
      "metadata": {
        "colab": {
          "base_uri": "https://localhost:8080/"
        },
        "id": "2b6agarWcdiq",
        "outputId": "0133b8e9-1b60-45e9-aa25-b01d7ef31ba9"
      },
      "execution_count": 21,
      "outputs": [
        {
          "output_type": "stream",
          "name": "stdout",
          "text": [
            "1\n",
            "2\n",
            "3\n",
            "4\n",
            "5\n"
          ]
        }
      ]
    },
    {
      "cell_type": "markdown",
      "source": [
        "**3. Loop Control Statements**\n",
        "\n",
        "These are used to control the flow inside loops:\n",
        "\n",
        "Statement\tDescription\tExample Use\n",
        "break\tExits the loop immediately\tStop when a condition is met\n",
        "continue\tSkips the current iteration & continues\tSkip certain values\n",
        "pass\tDoes nothing (placeholder)\tUsed when a block is syntactically required\n"
      ],
      "metadata": {
        "id": "DYFdwH1nc7tL"
      }
    },
    {
      "cell_type": "code",
      "source": [
        "for i in range(5):\n",
        "    if i == 3:\n",
        "        break\n",
        "    print(i)\n"
      ],
      "metadata": {
        "colab": {
          "base_uri": "https://localhost:8080/"
        },
        "id": "bUWlmMiuc0ik",
        "outputId": "c981eedc-e27d-4e53-c942-d737d6867b0e"
      },
      "execution_count": 22,
      "outputs": [
        {
          "output_type": "stream",
          "name": "stdout",
          "text": [
            "0\n",
            "1\n",
            "2\n"
          ]
        }
      ]
    },
    {
      "cell_type": "code",
      "source": [
        "for i in range(5):\n",
        "    if i == 2:\n",
        "        continue\n",
        "    print(i)\n"
      ],
      "metadata": {
        "colab": {
          "base_uri": "https://localhost:8080/"
        },
        "id": "YVpiBk3xdDgy",
        "outputId": "5b3ba94e-a015-42d3-f7e4-85a831e04851"
      },
      "execution_count": 23,
      "outputs": [
        {
          "output_type": "stream",
          "name": "stdout",
          "text": [
            "0\n",
            "1\n",
            "3\n",
            "4\n"
          ]
        }
      ]
    },
    {
      "cell_type": "code",
      "source": [],
      "metadata": {
        "id": "pcq1irOBdH7I"
      },
      "execution_count": null,
      "outputs": []
    }
  ]
}